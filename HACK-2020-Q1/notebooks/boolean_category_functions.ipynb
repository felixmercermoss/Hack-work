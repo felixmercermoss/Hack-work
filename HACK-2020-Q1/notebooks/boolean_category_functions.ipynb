{
 "cells": [
  {
   "cell_type": "markdown",
   "metadata": {},
   "source": [
    "# Assign boolean category labels to news articles\n",
    "\n",
    "### Datascapes Hack, June 2020\n",
    "Hack documentation can be found [here](https://paper.dropbox.com/doc/HACK-Q1-2020--A2FzQJwlu4mWkTIUmB7gSH0RAg-zuTZhovLYbSAFzktgW3SN).\n",
    "\n",
    "**Boolean tag categories:**\n",
    "- \"isBLM\"\n",
    "- \"isBrexit\"\n",
    "- \"isCovid\"\n",
    "- \"isEducation\"\n",
    "- \"isImmigration\"\n",
    "- \"isEconomy\"\n",
    "- \"isProtest\"\n",
    "- \"isRacial\"\n",
    "- \"isLawAndOrder\"\n",
    "\n",
    "**Methods of asserting category membership:**\n",
    "1. Search existing article tags for category keywords\n",
    "2. Search article headline / summary / text for category keywords\n",
    "3. Use [Mango](http://api.mango-en.virt.ch.bbc.co.uk/) or [Starfruit](http://starfruit.virt.ch.bbc.co.uk/) to auto-generate tags, and search these for category keywords\n",
    "\n",
    "**Note:** you can find available BBC content tags [here](https://www.bbc.co.uk/things/search?q=immigration)"
   ]
  },
  {
   "cell_type": "code",
   "execution_count": 2,
   "metadata": {},
   "outputs": [
    {
     "name": "stdout",
     "output_type": "stream",
     "text": [
      "57819\n"
     ]
    }
   ],
   "source": [
    "# load content data\n",
    "import json\n",
    "import os\n",
    "\n",
    "\n",
    "CONTENT_ROOT = '/Users/fitzma02/Documents/work/data/all_content'\n",
    "\n",
    "\n",
    "# copied from garden_shed.data_utils.data_io\n",
    "def get_filepaths_in_directory_and_subdirs(root, extension_filter=''):\n",
    "    fpaths = []\n",
    "    for dirpath, dirnames, filenames in os.walk(root):\n",
    "        for fname in filenames:\n",
    "            if not extension_filter or fname.lower().endswith(extension_filter.lower()):\n",
    "                fpaths.append(os.path.join(dirpath, fname))\n",
    "    return fpaths\n",
    "\n",
    "\n",
    "def load_json_data_from_root(root, extension_filter=''):\n",
    "    file_paths = get_filepaths_in_directory_and_subdirs(root, extension_filter)\n",
    "    data = {}\n",
    "    for fpath in file_paths:\n",
    "        with open(fpath) as fin:\n",
    "            data[fpath] = json.load(fin)\n",
    "    return data\n",
    "\n",
    "\n",
    "content = load_json_data_from_root(CONTENT_ROOT, extension_filter='')\n",
    "print(len(content))"
   ]
  },
  {
   "cell_type": "code",
   "execution_count": 34,
   "metadata": {},
   "outputs": [
    {
     "data": {
      "text/plain": [
       "{'about': [{'thingLabel': 'Republic of Ireland',\n",
       "   'thingUri': 'http://www.bbc.co.uk/things/cd91afdb-d0b1-4736-b1d0-64bf674a8a74#id',\n",
       "   'thingId': 'cd91afdb-d0b1-4736-b1d0-64bf674a8a74',\n",
       "   'thingType': ['Thing', 'Place', 'geoname:GeoTagConcept'],\n",
       "   'thingSameAs': ['http://sws.geonames.org/2963597/'],\n",
       "   'topicName': 'Republic of Ireland',\n",
       "   'topicId': 'c207p54mdq7t',\n",
       "   'curationList': [{'curationId': 'cd91afdb-d0b1-4736-b1d0-64bf674a8a74',\n",
       "     'curationType': 'vivo-stream'}]}]}"
      ]
     },
     "execution_count": 34,
     "metadata": {},
     "output_type": "execute_result"
    }
   ],
   "source": [
    "import random\n",
    "\n",
    "# pick random test article from content data\n",
    "content_list = list(content.items())\n",
    "test_article = random.choice(content_list)[1]\n",
    "test_article['metadata']['tags']"
   ]
  },
  {
   "cell_type": "code",
   "execution_count": 4,
   "metadata": {},
   "outputs": [],
   "source": [
    "# associate boolean categories with content tags\n",
    "\n",
    "category_tags = {\n",
    "    'isBLM': {'should': ['Black Lives Matter', 'BLM'], 'should_not': []},\n",
    "    'isBrexit': {'should':['Brexit', 'Operation Yellowhammer'], 'should_not': []},\n",
    "    'isCovid': {'should': ['Covid', 'Coronavirus', 'Self-isolation', 'Lockdown', 'Contact tracing', \n",
    "                           'Mers virus', 'Joint Biosecurity Centre (JBC)'],\n",
    "                'should_not': []},\n",
    "    'isEducation': {'should': ['Education'], 'should_not': []},\n",
    "    'isImmigation': {'should': ['Immigration'], 'should_not': []},\n",
    "    \"isEconomy\": {'should': ['Economy'], 'should_not': []},\n",
    "    \"isProtest\": {'should': [], 'should_not': []},\n",
    "    \"isRacial\": {'should': [], 'should_not': []},\n",
    "    \"isLawAndOrder\": {'should': [], 'should_not': []},\n",
    "}"
   ]
  },
  {
   "cell_type": "code",
   "execution_count": 22,
   "metadata": {},
   "outputs": [],
   "source": [
    "# extract relevant text elements from article\n",
    "\n",
    "\n",
    "def get_tags(article):\n",
    "    \"\"\"\n",
    "    Extract tags from within article json.\n",
    "    \"\"\"\n",
    "    all_tags = article.get('metadata', {}).get('tags', {}).get('about', [])\n",
    "    tag_names = [t.get('thingLabel') for t in all_tags]\n",
    "    return tag_names\n",
    "\n",
    "\n",
    "def get_headline(article):\n",
    "    \"\"\"\n",
    "    Extract headline from within article json.\n",
    "    \"\"\"\n",
    "    return article.get('promo', {}).get('headlines', {}).get('headline', '')\n",
    "\n",
    "\n",
    "def get_summary(article):\n",
    "    \"\"\"\n",
    "    Extract summary from within article json.\n",
    "    \"\"\"\n",
    "    return article.get('promo', {}).get('summary', '')\n",
    "\n",
    "\n",
    "def get_uri(article):\n",
    "    \"\"\"\n",
    "    Extract uri from within article json.\n",
    "    \"\"\"\n",
    "    return article.get('metadata', {}).get('locators', {}).get('assetUri', '')"
   ]
  },
  {
   "cell_type": "code",
   "execution_count": 23,
   "metadata": {},
   "outputs": [],
   "source": [
    "test_tags = get_tags(test_article)\n",
    "test_headline = get_headline(test_article)\n",
    "test_summary = get_summary(test_article)\n",
    "test_uri = get_uri(test_article)"
   ]
  },
  {
   "cell_type": "code",
   "execution_count": 12,
   "metadata": {},
   "outputs": [],
   "source": [
    "def check_text_for_keywords(text, category_tags):\n",
    "    \"\"\"\n",
    "    Function checks if text includes category tags, excluding invalid tags.\n",
    "    Args:\n",
    "        text (list): list of text segments to be searched (these may be tags, headlines, or body text)\n",
    "        category_tags (dict):\n",
    "    Returns:\n",
    "        True if text contains at least one valid category tag, and no invalid tags.\n",
    "    \"\"\"\n",
    "    all_text = (' ').join([t.lower() for t in text])\n",
    "    should = [t.lower() for t in category_tags.get('should', [])]\n",
    "    should_not = [t.lower() for t in category_tags.get('should_not', [])]\n",
    "    \n",
    "    for s in should_not:\n",
    "        if all_text.find(s) >= 0:\n",
    "            return False\n",
    "    for s in should:\n",
    "        if all_text.find(s) >= 0:\n",
    "            return True\n",
    "    return False"
   ]
  },
  {
   "cell_type": "code",
   "execution_count": 20,
   "metadata": {},
   "outputs": [
    {
     "data": {
      "text/plain": [
       "True"
      ]
     },
     "execution_count": 20,
     "metadata": {},
     "output_type": "execute_result"
    }
   ],
   "source": [
    "all_text = test_tags + [test_headline, test_summary]\n",
    "check_text_for_keywords(all_text, {'should': ['Entertainment', 'Scotland'], 'should_not': ['Brexit']})"
   ]
  },
  {
   "cell_type": "code",
   "execution_count": 32,
   "metadata": {},
   "outputs": [],
   "source": [
    "#!pip install requests\n",
    "import requests\n",
    "import json\n",
    "\n",
    "\n",
    "starfruit_api = 'http://starfruit.virt.ch.bbc.co.uk'\n",
    "mango_api = 'http://api.mango-en.virt.ch.bbc.co.uk'\n",
    "\n",
    "\n",
    "def get_results_from_autotagger(asset_uri, api=starfruit_api):\n",
    "    \"\"\"\n",
    "    Query starfruit or mango api with article URI to return auto-generated content tags.\n",
    "    \"\"\"\n",
    "    response = requests.get(f'{api}/topics?uri=https://www.bbc.co.uk{asset_uri}')\n",
    "    body = response.content\n",
    "    return json.loads(body.decode(\"utf-8\"))\n",
    "\n",
    "\n",
    "def parse_labels_from_starfruit_response(response):\n",
    "    \"\"\"\n",
    "    Extract list of auto-generated labels from starfruit api response.\n",
    "    \"\"\"\n",
    "    all_labels = response.get('results', [])\n",
    "    return [l.get('label', {}).get('en-gb', '') for l in all_labels]\n",
    "\n",
    "\n",
    "def parse_labels_from_mango_response(response):\n",
    "    \"\"\"\n",
    "    Extract list of auto-generated labels from mango api response.\n",
    "    \"\"\"\n",
    "    all_labels = response.get('results', [])\n",
    "    print(all_labels[0]['label'])\n",
    "    return [l.get('label', {}) for l in all_labels]"
   ]
  },
  {
   "cell_type": "code",
   "execution_count": 33,
   "metadata": {},
   "outputs": [
    {
     "name": "stdout",
     "output_type": "stream",
     "text": [
      "Arrested\n"
     ]
    },
    {
     "data": {
      "text/plain": [
       "['Arrested',\n",
       " 'Stabbed',\n",
       " 'Bessbrook',\n",
       " 'murder',\n",
       " 'Police',\n",
       " 'Coleraine',\n",
       " 'BBC News',\n",
       " 'Hospital',\n",
       " 'Robbery',\n",
       " 'Gang',\n",
       " 'Anniversary',\n",
       " 'County Armagh',\n",
       " 'PSNI',\n",
       " 'Prosecution',\n",
       " 'Crimestoppers']"
      ]
     },
     "execution_count": 33,
     "metadata": {},
     "output_type": "execute_result"
    }
   ],
   "source": [
    "response = get_results_from_autotagger(test_uri, api=mango_api)\n",
    "parse_labels_from_mango_response(response)"
   ]
  },
  {
   "cell_type": "code",
   "execution_count": 35,
   "metadata": {},
   "outputs": [],
   "source": [
    "def end_to_end_labelling(article, category_tags, use_tags=True, use_headline=True, use_summary=True, use_starfish=True, use_mango=True):\n",
    "    text = []\n",
    "    if use_tags:\n",
    "        text += get_tags(article)\n",
    "    if use_headline:\n",
    "        text += [get_headline(article)]\n",
    "    if use_summary:\n",
    "        text += [get_summary(article)]\n",
    "    if use_starfish or use_mango:\n",
    "        uri = get_uri(article)\n",
    "        if use_starfish:\n",
    "            response = get_results_from_autotagger(uri, api='http://starfruit.virt.ch.bbc.co.uk')\n",
    "            text += parse_labels_from_starfruit_response(response)\n",
    "        if use_mango:\n",
    "            response = get_results_from_autotagger(uri, api='http://api.mango-en.virt.ch.bbc.co.uk')\n",
    "            text += parse_labels_from_mango_response(response)\n",
    "    return check_text_for_keywords(text, category_tags)"
   ]
  },
  {
   "cell_type": "code",
   "execution_count": 36,
   "metadata": {},
   "outputs": [
    {
     "ename": "NameError",
     "evalue": "name 'article' is not defined",
     "output_type": "error",
     "traceback": [
      "\u001b[0;31m---------------------------------------------------------------------------\u001b[0m",
      "\u001b[0;31mNameError\u001b[0m                                 Traceback (most recent call last)",
      "\u001b[0;32m<ipython-input-36-01ffc6383611>\u001b[0m in \u001b[0;36m<module>\u001b[0;34m\u001b[0m\n\u001b[0;32m----> 1\u001b[0;31m \u001b[0mend_to_end_labelling\u001b[0m\u001b[0;34m(\u001b[0m\u001b[0marticle\u001b[0m\u001b[0;34m,\u001b[0m \u001b[0mcategory_tags\u001b[0m\u001b[0;34m[\u001b[0m\u001b[0;34m'isBLM'\u001b[0m\u001b[0;34m]\u001b[0m\u001b[0;34m)\u001b[0m\u001b[0;34m\u001b[0m\u001b[0;34m\u001b[0m\u001b[0m\n\u001b[0m",
      "\u001b[0;31mNameError\u001b[0m: name 'article' is not defined"
     ]
    }
   ],
   "source": [
    "end_to_end_labelling(test_article, category_tags['isBLM'])"
   ]
  },
  {
   "cell_type": "code",
   "execution_count": null,
   "metadata": {},
   "outputs": [],
   "source": []
  }
 ],
 "metadata": {
  "kernelspec": {
   "display_name": "Python 3",
   "language": "python",
   "name": "python3"
  },
  "language_info": {
   "codemirror_mode": {
    "name": "ipython",
    "version": 3
   },
   "file_extension": ".py",
   "mimetype": "text/x-python",
   "name": "python",
   "nbconvert_exporter": "python",
   "pygments_lexer": "ipython3",
   "version": "3.8.2"
  }
 },
 "nbformat": 4,
 "nbformat_minor": 4
}
